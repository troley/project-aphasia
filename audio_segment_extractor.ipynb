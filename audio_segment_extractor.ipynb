{
 "cells": [
  {
   "cell_type": "markdown",
   "metadata": {},
   "source": [
    "Author: René Uhliar"
   ]
  },
  {
   "cell_type": "markdown",
   "metadata": {},
   "source": [
    "## Common dutch words extraction\n",
    "In this part, matching words that are found within the data set which was earlier processed by my team colleagues (Corpus Gesproken Nederlands (CGN) data) are being extracted in the format\n",
    "<br>\n",
    "<b>start_time_of_word,end_time_of_word,the_word,absolute_path_to_wav_file_of_the_word</b>\n",
    "<br>\n",
    "These lines are saved into a new file after they've been extracted from the CGN. We will later use these lines to extract concrete audio segments from the wave files."
   ]
  },
  {
   "cell_type": "code",
   "execution_count": 1,
   "metadata": {},
   "outputs": [],
   "source": [
    "import os, re\n",
    "\n",
    "filepath = \"/datb/aphasia/languagedata/corpus/final/\"\n",
    "matching_words_path = \"/datb/aphasia/aphasia-shared/pannous_matching_words.csv\"\n",
    "save_filepath = \"/datb/aphasia/aphasia-shared/cgn_matching_words_lines.txt\""
   ]
  },
  {
   "cell_type": "code",
   "execution_count": 15,
   "metadata": {},
   "outputs": [],
   "source": [
    "files = [filepath + name for name in os.listdir(filepath)]\n",
    "\n",
    "\n",
    "def get_matching_words_from_csv(path, delimiter):\n",
    "    with open (path, \"r\") as file:\n",
    "        return file.read().split(delimiter)\n",
    "\n",
    "\n",
    "def get_matching_file_paths(files, matching_words_arr):\n",
    "    lines = []\n",
    "    for idx, file_path in enumerate(files):\n",
    "        # file_path example: /datb/aphasia/languagedata/corpus/final/fn001023.csv\n",
    "        \n",
    "        # For testing purposes we only take n csv files to\n",
    "        # load lines from, so that the script works fast.\n",
    "        # \n",
    "        # Comment this out when you want to load lines from ALL csvs (takes long to process in the next slides).\n",
    "        if (idx >= 15):\n",
    "            break;\n",
    "        with open (file_path, \"r\") as reading_file:\n",
    "            for line in reading_file.readlines():\n",
    "                # line example: 0.197,0.736,het,/datb/aphasia/languagedata/corpus/transform/wavfiles/fn001023.csv\n",
    "                for common_word in matching_words_arr:\n",
    "                    # common_word example: het\n",
    "                    \n",
    "                    word = line.split(',')[2].lower()\n",
    "                    \n",
    "                    # Character 'f' before a string enables literal string interpolation.\n",
    "                    # The \\b is used in the regex to help us match exactly the word {word} in a sentence.\n",
    "                    # We don't want to match a word which is longer, but also contains the {word} part in it.\n",
    "                    pattern = f\"\\\\b{word}\\\\b\"\n",
    "                    if re.search(pattern, common_word) is not None:\n",
    "                        lines.append(line)\n",
    "    return lines\n",
    "    \n",
    "matching_words = get_matching_words_from_csv(matching_words_path, ',')\n",
    "\n",
    "# save the found words into a new file\n",
    "def save_lines_to_file(save_file_path, matching_file_paths):\n",
    "    with open (save_file_path, \"w\") as save_file:\n",
    "        for line in matching_file_paths:\n",
    "            save_file.write(line)\n",
    "\n",
    "save_lines_to_file(save_filepath, get_matching_file_paths(files, matching_words))"
   ]
  },
  {
   "cell_type": "markdown",
   "metadata": {},
   "source": [
    "## Process the audio from the saved lines into new, just one word audio files\n",
    "In the first cell underneath, a dictionary can be noticed. The dictionary contains common dutch words as keys and a label (to be used in training) that represents the word.\n",
    "\n",
    "In the second tab, we use the file we created early with the \n",
    "<b>start_time_of_word,end_time_of_word,the_word,absolute_path_to_wav_file_of_the_word</b> files. Here, we want to cut the part out out of the (whole) audio file where only the one word we're looking for is being said. We want to save that into a new file, resample that saved audio file to 8-bit precision and save that as well. We're doing the following iteratively for each line read from the saved file to achieve this:\n",
    "<ol>\n",
    "    <li>Extract a line from the earlier saved file</li>\n",
    "    <li>Clean the comma separated parts to make them usable</li>\n",
    "    <li>Load the whole audio file at the path and cut just the part where the word occurs (offset &amp; duration)</li>\n",
    "    <li>Save the new audio file containing just the one spoken word</li>\n",
    "    <li>Downsample (from original 24-bit) to 8-bit precision and save this file as well</li>\n",
    "</ol>\n",
    "We finally use the downsampled 8-bit precision wav files, because in the library we use, a `wave.open()` command is being used and it didn't work with 24-bit audio files. The library's examples also works with 8-bit precision audio files, so we adhere to this precision."
   ]
  },
  {
   "cell_type": "code",
   "execution_count": 13,
   "metadata": {},
   "outputs": [],
   "source": [
    "import librosa\n",
    "from subprocess import call\n",
    "\n",
    "cgn_augio_dir = \"/datb/aphasia/languagedata/corpus/transform/wavfiles/\"\n",
    "save_extracted_words_dir = \"/datb/aphasia/aphasia-shared/extracted_words_audio_test/\"\n",
    "save_extracted_words_8bit_dir = save_extracted_words_dir + \"new/\"\n",
    "\n",
    "# labels for the words that will match the part of the wav file name e.g.\n",
    "# the nuber 8 in 8_spreker_214 belongs to the word \"een\" from the dict.\n",
    "word_labels_dict = {\"zijn\":0, \"ja\":1, \"dat\":2, \"de\":3, \"ik\":4, \"en\":5,\n",
    "                    \"het\":6, \"uh\":7, \"een\":8, \"hebben\":9, \"die\":10, \"van\":11, \"maar\":12, \"in\":13, \"niet\":14,}"
   ]
  },
  {
   "cell_type": "code",
   "execution_count": 16,
   "metadata": {},
   "outputs": [],
   "source": [
    "with open (save_filepath, \"r\") as read_file:\n",
    "\n",
    "    index = 0\n",
    "    for line in read_file.readlines():\n",
    "        # line example: 0.197,0.736,het,/datb/aphasia/languagedata/corpus/transform/wavfiles/fn001023.csv\n",
    "        line_parts_arr = line.split(',')\n",
    "        \n",
    "        # Remove new line character from the file path part in line_parts_arr.\n",
    "        line_parts_arr[3] = line_parts_arr[3][:-1]\n",
    "        start_seq = float(line_parts_arr[0])\n",
    "        end_seq = float(line_parts_arr[1])\n",
    "        \n",
    "        # Lowercase the word, so that we can match it with the word in the word_labels_dict\n",
    "        word = line_parts_arr[2].lower()\n",
    "        path = line_parts_arr[3]\n",
    "\n",
    "        # Get the duration of the word that is being spoken out\n",
    "        duration = end_seq - start_seq\n",
    "        \n",
    "        # Load a wav from - to time (just the one word).\n",
    "        wav, sr = librosa.load(path, \n",
    "                               offset=start_seq, \n",
    "                               duration=duration)\n",
    "        \n",
    "        new_file_name = str(word_labels_dict[word]) + \"_spreker_\" + str(index) + \".wav\"\n",
    "        \n",
    "        # Save location for the extracted audio part.\n",
    "        save_location = save_extracted_words_dir + new_file_name\n",
    "        librosa.output.write_wav(save_location, wav, sr)\n",
    "        \n",
    "        # The audio has to be converted to <= 16-bit precision: \n",
    "        # https://github.com/MontrealCorpusTools/Montreal-Forced-Aligner/issues/57\n",
    "        # for wave library to be able to open the wav file in this case.\n",
    "        # We will convert to 8-bit precision, because the pannous digit example code also used 8-bit wav files.\n",
    "        # We will save the new (8-bit precision) wav file to another than the original wav files.\n",
    "        new_save_location = save_extracted_words_8bit_dir + new_file_name\n",
    "        call([\"sox\", save_location, \"-b8\", new_save_location])\n",
    "        \n",
    "        index += 1\n"
   ]
  },
  {
   "cell_type": "code",
   "execution_count": null,
   "metadata": {},
   "outputs": [],
   "source": []
  }
 ],
 "metadata": {
  "kernelspec": {
   "display_name": "Python 3",
   "language": "python",
   "name": "python3"
  },
  "language_info": {
   "codemirror_mode": {
    "name": "ipython",
    "version": 3
   },
   "file_extension": ".py",
   "mimetype": "text/x-python",
   "name": "python",
   "nbconvert_exporter": "python",
   "pygments_lexer": "ipython3",
   "version": "3.6.7"
  }
 },
 "nbformat": 4,
 "nbformat_minor": 2
}
