{
 "cells": [
  {
   "cell_type": "markdown",
   "metadata": {},
   "source": [
    "# Author: René Uhliar\n",
    "\n",
    "### Data set used in this notebook has been obtained from Kaggle.\n",
    "### Link to data set: https://www.kaggle.com/iarunava/cell-images-for-detecting-malaria\n",
    "\n",
    "This notebook contains additional tasks I've free willingy performed to prove the skills I obtained during the data science minor.\n",
    "\n",
    "The data consists of image data containing images of infected by Malaria, and uninfected wounds."
   ]
  },
  {
   "cell_type": "markdown",
   "metadata": {},
   "source": [
    "## Data preparation"
   ]
  },
  {
   "cell_type": "code",
   "execution_count": 1,
   "metadata": {
    "scrolled": true
   },
   "outputs": [
    {
     "name": "stderr",
     "output_type": "stream",
     "text": [
      "Using TensorFlow backend.\n",
      "/opt/jupyterhub/anaconda/lib/python3.6/importlib/_bootstrap.py:219: RuntimeWarning: compiletime version 3.5 of module 'tensorflow.python.framework.fast_tensor_util' does not match runtime version 3.6\n",
      "  return f(*args, **kwds)\n"
     ]
    }
   ],
   "source": [
    "from keras.backend.tensorflow_backend import set_session\n",
    "from keras.models import Sequential\n",
    "from keras.layers import *\n",
    "import tensorflow as tf\n",
    "import matplotlib.pyplot as plt\n",
    "import numpy as np\n",
    "import os\n",
    "import shutil\n",
    "import random\n",
    "\n",
    "# Configure GPU usage\n",
    "os.environ[\"CUDA_VISIBLE_DEVICES\"]=\"2\"\n",
    "config = tf.ConfigProto()\n",
    "config.gpu_options.per_process_gpu_memory_fraction = 0.8\n",
    "config.gpu_options.allow_growth = True\n",
    "set_session(tf.Session(config=config))\n",
    "\n",
    "# Directories with data for this task\n",
    "base_dir = \"/home/14036738/notebooks/cell_images/\"\n",
    "unprocessed_imgs_base_dir = base_dir + \"images/\"\n",
    "infected_imgs_dir = unprocessed_imgs_base_dir + \"parasitized/\"\n",
    "uninfected_imgs_dir = unprocessed_imgs_base_dir + \"uninfected/\"\n",
    "all_imgs_dir = base_dir + \"all/\"\n",
    "all_infected_dir = all_imgs_dir + \"parasitized/\"\n",
    "all_uninfected_dir = all_imgs_dir + \"uninfected/\"\n",
    "val_imgs_dir = base_dir + \"validation/\"\n",
    "val_infected_dir = val_imgs_dir + \"parasitized/\"\n",
    "val_uninfected_dir = val_imgs_dir + \"uninfected/\"\n",
    "test_imgs_dir = base_dir + \"test/\"\n",
    "test_infected_dir = test_imgs_dir + \"parasitized/\"\n",
    "test_uninfected_dir = test_imgs_dir + \"uninfected/\""
   ]
  },
  {
   "cell_type": "markdown",
   "metadata": {},
   "source": [
    "We copy all unprocessed parasitized and uninfected images to the all images directory into the appropriate folder. This is done, because when later using `ImageDataGenerator#flow_from_directory` functions, these functions require the files to be stored in their appropriate folder. For each folder, a class will be created (this can be seen in the output of a cell later on).\n",
    "\n",
    "So to clarify, in this case we will have 2 classes. The parasitized and the uninfected ones."
   ]
  },
  {
   "cell_type": "code",
   "execution_count": 9,
   "metadata": {},
   "outputs": [],
   "source": [
    "# Labels to be appended to the start of each file to later on distinguish between parasitized and uninfected\n",
    "# when appending to a list containing all images.\n",
    "uninfected_label = \"0_\"\n",
    "parasitized_label = \"1_\"\n",
    "\n",
    "# Copy yet unprocessed infected images to ~/notebooks/cell_images/all/infected/\n",
    "for file in os.listdir(infected_imgs_dir):\n",
    "    if \".png\" in file:\n",
    "        shutil.copyfile(os.path.join(infected_imgs_dir, file), all_infected_dir + parasitized_label + file)\n",
    "\n",
    "# Copy yet unprocessed uninfected images to ~/notebooks/cell_images/all/uninfected/\n",
    "for file in os.listdir(uninfected_imgs_dir):\n",
    "    if \".png\" in file:\n",
    "        shutil.copyfile(os.path.join(uninfected_imgs_dir, file), all_uninfected_dir + uninfected_label +file)"
   ]
  },
  {
   "cell_type": "markdown",
   "metadata": {},
   "source": [
    "Get all parasitized and uninfected images into a list, so that we can extract a certain amount of these for the validation set later on."
   ]
  },
  {
   "cell_type": "code",
   "execution_count": 2,
   "metadata": {},
   "outputs": [],
   "source": [
    "all_imgs = []\n",
    "for file in os.listdir(all_infected_dir):\n",
    "    if \".png\" in file and os.path.isfile(os.path.join(all_infected_dir, file)):\n",
    "        all_imgs.append(file)\n",
    "        \n",
    "for file in os.listdir(all_uninfected_dir):\n",
    "    if \".png\" in file and os.path.isfile(os.path.join(all_uninfected_dir, file)):\n",
    "        all_imgs.append(file)"
   ]
  },
  {
   "cell_type": "markdown",
   "metadata": {},
   "source": [
    "Extract 10% test and 20% validation random parasitized and uninfected images from the `all_imgs` list set. Based on the previously set labels \"0_\" and \"1_\", we extract the correct image (parasitized or uninfected) and move it to the appropriate test folder.\n",
    "\n",
    "E.g. We extract the file 1_C208ThinF_IMG_20151029_155411_cell_8.png. We move this file to the ~/notebooks/cell_images/test/parasitized/ folder, because the label \"1_\" at the start of the file states that the image contains a parasitized wound."
   ]
  },
  {
   "cell_type": "code",
   "execution_count": 4,
   "metadata": {},
   "outputs": [],
   "source": [
    "test_amount = 2756 # 27558 * 0.1 = 2756\n",
    "validation_amount = 5512 # 27558 * 0.2 = 5512\n",
    "\n",
    "def move_random_files_to_val_test_folders(amount_of_random_data, all_imgs_list, infected_dir, uninfected_dir):\n",
    "    for i in range(amount_of_random_data):\n",
    "        file = random.choice(all_imgs_list)\n",
    "        if file.startswith(\"1_\"):\n",
    "            shutil.move(os.path.join(all_infected_dir, file), infected_dir)\n",
    "        else:\n",
    "            shutil.move(os.path.join(all_uninfected_dir, file), uninfected_dir)\n",
    "\n",
    "        # Remove the file from the list, else it might be chosen twice which will throw a duplicate error.\n",
    "        all_imgs_list.remove(file)\n",
    "        \n",
    "move_random_files_to_val_test_folders(test_amount, all_imgs, test_infected_dir, test_uninfected_dir)\n",
    "move_random_files_to_val_test_folders(validation_amount, all_imgs, val_infected_dir, val_uninfected_dir)"
   ]
  },
  {
   "cell_type": "markdown",
   "metadata": {},
   "source": [
    "## Data visualization"
   ]
  },
  {
   "cell_type": "markdown",
   "metadata": {},
   "source": [
    "This function will get the false and true (0 and 1) classes as arguments and will be plotted as a histogram to see the difference, in samples in this case, between the two classes."
   ]
  },
  {
   "cell_type": "code",
   "execution_count": 26,
   "metadata": {},
   "outputs": [],
   "source": [
    "def plot_classes(zero, one):\n",
    "    print(\"Amount of infected: \" + str(len(one)))\n",
    "    print(\"Amount of uninfected: \"+ str(len(zero)))\n",
    "    plt.hist([zero, one], bins=1, color=['orange', 'blue'])\n",
    "    plt.ylabel('Amount of samples')\n",
    "    plt.legend(['uninfected', 'infected'])\n",
    "    plt.show()"
   ]
  },
  {
   "cell_type": "markdown",
   "metadata": {},
   "source": [
    "Here we can see the total amount of infected and uninfected training set images. There are total of ~27k images, but there are less than 10k images per class, because files have already been split for validation and testing as well."
   ]
  },
  {
   "cell_type": "code",
   "execution_count": 27,
   "metadata": {
    "scrolled": true
   },
   "outputs": [
    {
     "name": "stdout",
     "output_type": "stream",
     "text": [
      "Amount of infected: 9676\n",
      "Amount of uninfected: 9614\n"
     ]
    },
    {
     "data": {
      "image/png": "[encoded data removed]",
      "text/plain": [
       "<Figure size 432x288 with 1 Axes>"
      ]
     },
     "metadata": {
      "needs_background": "light"
     },
     "output_type": "display_data"
    }
   ],
   "source": [
    "amt_of_uninfected = []\n",
    "amt_of_infected = []\n",
    "\n",
    "for file in all_imgs:\n",
    "    if file.startswith(parasitized_label):\n",
    "        amt_of_infected.append(1)\n",
    "    else:\n",
    "        amt_of_uninfected.append(0)\n",
    "\n",
    "plot_classes(amt_of_uninfected, amt_of_infected)"
   ]
  },
  {
   "cell_type": "markdown",
   "metadata": {},
   "source": [
    "## Building / training a predictive model"
   ]
  },
  {
   "cell_type": "markdown",
   "metadata": {},
   "source": [
    "Create the ImageDataGeneratores for the later initialization of train and test generators.\n",
    "https://keras.io/preprocessing/image/"
   ]
  },
  {
   "cell_type": "code",
   "execution_count": 19,
   "metadata": {},
   "outputs": [],
   "source": [
    "from keras.preprocessing import image\n",
    "\n",
    "train_data = image.ImageDataGenerator(rescale=1. / 255, shear_range=0.2, zoom_range=0.2, horizontal_flip=True)\n",
    "validation_data = image.ImageDataGenerator(rescale=1. / 255)"
   ]
  },
  {
   "cell_type": "markdown",
   "metadata": {},
   "source": [
    "Extract the train data from the `all_imgs_dir` and validation data from `val_imgs_dir` which will be used for training the model. The folders in these 2 base folders are the classes (parasitized and uninfected). So `train_generator` and `validation_generator` both have 2 classes each, both containing the images that belong to these 2 classes."
   ]
  },
  {
   "cell_type": "code",
   "execution_count": 20,
   "metadata": {},
   "outputs": [
    {
     "name": "stdout",
     "output_type": "stream",
     "text": [
      "Found 19290 images belonging to 2 classes.\n",
      "Found 5512 images belonging to 2 classes.\n"
     ]
    }
   ],
   "source": [
    "train_generator = train_data.flow_from_directory(all_imgs_dir, target_size=(150, 150), batch_size=32, class_mode='binary')\n",
    "validation_generator = validation_data.flow_from_directory(val_imgs_dir, target_size=(150, 150), batch_size=32, class_mode='binary')"
   ]
  },
  {
   "cell_type": "markdown",
   "metadata": {},
   "source": [
    "Build the Convolutional Neural Network, with multiple convolutional, pooling and dense input/output layers. We also add a dropout layer to make the neurons remmber less and thus make the model less overfit."
   ]
  },
  {
   "cell_type": "code",
   "execution_count": 22,
   "metadata": {},
   "outputs": [],
   "source": [
    "model = Sequential()\n",
    "model.add(Conv2D(32, (3, 3), input_shape=(150, 150, 3), activation='relu'))\n",
    "model.add(MaxPooling2D(pool_size=(2, 2)))\n",
    "model.add(Conv2D(32, (3, 3), activation='relu'))\n",
    "model.add(MaxPooling2D(pool_size=(2, 2)))\n",
    "model.add(Flatten())\n",
    "model.add(Dense(units=64, activation='relu'))\n",
    "model.add(Dropout(0.5))\n",
    "model.add(Dense(units=1, activation='sigmoid'))"
   ]
  },
  {
   "cell_type": "code",
   "execution_count": 23,
   "metadata": {},
   "outputs": [],
   "source": [
    "model.compile(optimizer='adam', loss='binary_crossentropy', metrics=['accuracy'])"
   ]
  },
  {
   "cell_type": "markdown",
   "metadata": {},
   "source": [
    "## Diagnostics of the learning process"
   ]
  },
  {
   "cell_type": "markdown",
   "metadata": {},
   "source": [
    "Train the model. The provided arguments are adjusted by earlier trial and error to be set to the best found performance."
   ]
  },
  {
   "cell_type": "code",
   "execution_count": 24,
   "metadata": {
    "scrolled": true
   },
   "outputs": [
    {
     "name": "stdout",
     "output_type": "stream",
     "text": [
      "Epoch 1/30\n",
      "400/400 [==============================] - 41s - loss: 0.6482 - acc: 0.6395 - val_loss: 0.4824 - val_acc: 0.8356\n",
      "Epoch 2/30\n",
      "400/400 [==============================] - 40s - loss: 0.3657 - acc: 0.8741 - val_loss: 0.2788 - val_acc: 0.9276\n",
      "Epoch 3/30\n",
      "400/400 [==============================] - 40s - loss: 0.2760 - acc: 0.9087 - val_loss: 0.2403 - val_acc: 0.9287\n",
      "Epoch 4/30\n",
      "400/400 [==============================] - 40s - loss: 0.2275 - acc: 0.9238 - val_loss: 0.2507 - val_acc: 0.9285\n",
      "Epoch 5/30\n",
      "400/400 [==============================] - 40s - loss: 0.2306 - acc: 0.9271 - val_loss: 0.2084 - val_acc: 0.9406\n",
      "Epoch 6/30\n",
      "400/400 [==============================] - 40s - loss: 0.2222 - acc: 0.9239 - val_loss: 0.2402 - val_acc: 0.9292\n",
      "Epoch 7/30\n",
      "400/400 [==============================] - 40s - loss: 0.2177 - acc: 0.9274 - val_loss: 0.1920 - val_acc: 0.9386\n",
      "Epoch 8/30\n",
      "400/400 [==============================] - 39s - loss: 0.2036 - acc: 0.9332 - val_loss: 0.2008 - val_acc: 0.9366\n",
      "Epoch 9/30\n",
      "400/400 [==============================] - 39s - loss: 0.2093 - acc: 0.9374 - val_loss: 0.1952 - val_acc: 0.9440\n",
      "Epoch 10/30\n",
      "400/400 [==============================] - 40s - loss: 0.2020 - acc: 0.9400 - val_loss: 0.2126 - val_acc: 0.9416\n",
      "Epoch 11/30\n",
      "400/400 [==============================] - 39s - loss: 0.1985 - acc: 0.9399 - val_loss: 0.2217 - val_acc: 0.9395\n",
      "Epoch 12/30\n",
      "400/400 [==============================] - 40s - loss: 0.2084 - acc: 0.9355 - val_loss: 0.2388 - val_acc: 0.9285\n",
      "Epoch 13/30\n",
      "400/400 [==============================] - 40s - loss: 0.1910 - acc: 0.9377 - val_loss: 0.1969 - val_acc: 0.9406\n",
      "Epoch 14/30\n",
      "400/400 [==============================] - 40s - loss: 0.1983 - acc: 0.9399 - val_loss: 0.2150 - val_acc: 0.9487\n",
      "Epoch 15/30\n",
      "400/400 [==============================] - 39s - loss: 0.2012 - acc: 0.9400 - val_loss: 0.1991 - val_acc: 0.9444\n",
      "Epoch 16/30\n",
      "400/400 [==============================] - 39s - loss: 0.2036 - acc: 0.9378 - val_loss: 0.2192 - val_acc: 0.9414\n",
      "Epoch 17/30\n",
      "400/400 [==============================] - 41s - loss: 0.1922 - acc: 0.9427 - val_loss: 0.2086 - val_acc: 0.9414\n",
      "Epoch 18/30\n",
      "400/400 [==============================] - 40s - loss: 0.1969 - acc: 0.9403 - val_loss: 0.1869 - val_acc: 0.9516\n",
      "Epoch 19/30\n",
      "400/400 [==============================] - 40s - loss: 0.1898 - acc: 0.9430 - val_loss: 0.1992 - val_acc: 0.9399\n",
      "Epoch 20/30\n",
      "400/400 [==============================] - 40s - loss: 0.1895 - acc: 0.9432 - val_loss: 0.2085 - val_acc: 0.9384\n",
      "Epoch 21/30\n",
      "400/400 [==============================] - 39s - loss: 0.1792 - acc: 0.9476 - val_loss: 0.1904 - val_acc: 0.9288\n",
      "Epoch 22/30\n",
      "400/400 [==============================] - 40s - loss: 0.1861 - acc: 0.9445 - val_loss: 0.1941 - val_acc: 0.9493\n",
      "Epoch 23/30\n",
      "400/400 [==============================] - 39s - loss: 0.1746 - acc: 0.9469 - val_loss: 0.1868 - val_acc: 0.9475\n",
      "Epoch 24/30\n",
      "400/400 [==============================] - 40s - loss: 0.1761 - acc: 0.9444 - val_loss: 0.1994 - val_acc: 0.9373\n",
      "Epoch 25/30\n",
      "400/400 [==============================] - 40s - loss: 0.1892 - acc: 0.9393 - val_loss: 0.2069 - val_acc: 0.9369\n",
      "Epoch 26/30\n",
      "400/400 [==============================] - 40s - loss: 0.1895 - acc: 0.9415 - val_loss: 0.1999 - val_acc: 0.9367\n",
      "Epoch 27/30\n",
      "400/400 [==============================] - 40s - loss: 0.1740 - acc: 0.9442 - val_loss: 0.2034 - val_acc: 0.9413\n",
      "Epoch 28/30\n",
      "400/400 [==============================] - 40s - loss: 0.1799 - acc: 0.9433 - val_loss: 0.1843 - val_acc: 0.9521\n",
      "Epoch 29/30\n",
      "400/400 [==============================] - 39s - loss: 0.1876 - acc: 0.9427 - val_loss: 0.2036 - val_acc: 0.9377\n",
      "Epoch 30/30\n",
      "400/400 [==============================] - 39s - loss: 0.1757 - acc: 0.9445 - val_loss: 0.2055 - val_acc: 0.9444\n"
     ]
    }
   ],
   "source": [
    "result = model.fit_generator(train_generator, steps_per_epoch=400, epochs=30, validation_data=validation_generator, validation_steps=100)"
   ]
  },
  {
   "cell_type": "markdown",
   "metadata": {},
   "source": [
    "Here we plot the model diagnostics (accuracy and loss plots). The code is based on https://keras.io/visualization/#training-history-visualization but has been slightly adjusted to display everything correctly."
   ]
  },
  {
   "cell_type": "code",
   "execution_count": 38,
   "metadata": {
    "scrolled": true
   },
   "outputs": [
    {
     "data": {
      "image/png": "[encoded data removed]",
      "text/plain": [
       "<Figure size 432x288 with 1 Axes>"
      ]
     },
     "metadata": {
      "needs_background": "light"
     },
     "output_type": "display_data"
    },
    {
     "data": {
      "image/png": "[encoded data removed]",
      "text/plain": [
       "<Figure size 432x288 with 1 Axes>"
      ]
     },
     "metadata": {
      "needs_background": "light"
     },
     "output_type": "display_data"
    }
   ],
   "source": [
    "# summarize history for accuracy\n",
    "plt.plot(result.history['acc'])\n",
    "plt.plot(result.history['val_acc'])\n",
    "plt.title('model accuracy')\n",
    "plt.ylabel('accuracy')\n",
    "plt.xlabel('epoch')\n",
    "plt.legend(['train', 'validation'], loc='lower right')\n",
    "plt.show()\n",
    "# summarize history for loss\n",
    "plt.plot(result.history['loss'])\n",
    "plt.plot(result.history['val_loss'])\n",
    "plt.title('model loss')\n",
    "plt.ylabel('loss')\n",
    "plt.xlabel('epoch')\n",
    "plt.legend(['train', 'validation'], loc='upper right')\n",
    "plt.show()"
   ]
  },
  {
   "cell_type": "markdown",
   "metadata": {},
   "source": [
    "## Trained model evaluation"
   ]
  },
  {
   "cell_type": "code",
   "execution_count": 37,
   "metadata": {},
   "outputs": [
    {
     "data": {
      "text/plain": [
       "[0.18157183965668083, 0.946875]"
      ]
     },
     "execution_count": 37,
     "metadata": {},
     "output_type": "execute_result"
    }
   ],
   "source": [
    "# [loss, accuracy]\n",
    "result.model.evaluate_generator(generator=validation_generator, steps=20)"
   ]
  },
  {
   "cell_type": "markdown",
   "metadata": {},
   "source": [
    "## Using predictive model"
   ]
  },
  {
   "cell_type": "markdown",
   "metadata": {},
   "source": [
    "Here we can see how the generator extracted the labels based on the folder names:\n",
    "### generator parasitized label = 0\n",
    "### generator uninfected label = 1"
   ]
  },
  {
   "cell_type": "code",
   "execution_count": 27,
   "metadata": {},
   "outputs": [
    {
     "data": {
      "text/plain": [
       "{'parasitized': 0, 'uninfected': 1}"
      ]
     },
     "execution_count": 27,
     "metadata": {},
     "output_type": "execute_result"
    }
   ],
   "source": [
    "train_generator.class_indices"
   ]
  },
  {
   "cell_type": "markdown",
   "metadata": {},
   "source": [
    "Collect all test images into one list which will be used for prediction on unseen data. We also use Keras `image` and Numpy `np` to process each image in such a format that is acceptable by our `model#predict` function in a later ipynb cell."
   ]
  },
  {
   "cell_type": "code",
   "execution_count": 29,
   "metadata": {},
   "outputs": [],
   "source": [
    "test_images = []\n",
    "\n",
    "def append_dir_images_to_list(the_list, directory):\n",
    "    for file in os.listdir(directory):\n",
    "        if \".png\" in file:\n",
    "            img_file = image.load_img(os.path.join(directory, file), target_size=(150, 150))\n",
    "            img_file = image.img_to_array(img_file)\n",
    "            img_file = np.expand_dims(img_file, axis=0)\n",
    "            test_images.append(img_file)\n",
    "\n",
    "append_dir_images_to_list(test_images, test_infected_dir)\n",
    "append_dir_images_to_list(test_images, test_uninfected_dir)"
   ]
  },
  {
   "cell_type": "markdown",
   "metadata": {},
   "source": [
    "Predict on unseen (test) data. We append every prediction result into a list, which we'll later use to calculate correct / incorrect predictions."
   ]
  },
  {
   "cell_type": "code",
   "execution_count": 30,
   "metadata": {},
   "outputs": [],
   "source": [
    "predictions = []\n",
    "for image_arr in test_images:\n",
    "    predicted = result.model.predict(image_arr)\n",
    "    predictions.append(predicted)\n",
    "    "
   ]
  },
  {
   "cell_type": "markdown",
   "metadata": {},
   "source": [
    "Final cell where we look at the amount of predicted versus the total amount of samples for each of the 2 classes."
   ]
  },
  {
   "cell_type": "code",
   "execution_count": 31,
   "metadata": {},
   "outputs": [
    {
     "name": "stdout",
     "output_type": "stream",
     "text": [
      "Total amount of test samples: 2756\n",
      "\n",
      "Total amount uninfected test samples: 1347\n",
      "Predicted amount uninfected samples: 1359\n",
      "\n",
      "Total amount parasitized test samples: 1409\n",
      "Predicted amount parasitized samples: 1397\n"
     ]
    }
   ],
   "source": [
    "# Extract the labels (0 or 1) from the predictions.\n",
    "numbers = [int(x[0][0]) for x in predictions]\n",
    "zero = 0\n",
    "one = 0\n",
    "\n",
    "# Count the amount of parasitized and the uninfected, increment the 'zero' and 'one' \n",
    "# variables for each corresponding label.\n",
    "for number in numbers:\n",
    "    if number == 0:\n",
    "        # Remember: generator 0 = parasitized, so our 1 (one) increases\n",
    "        one += 1\n",
    "    elif number == 1:\n",
    "        # Remember: generator 1 = uninfected, so our 0 (zero) increases\n",
    "        zero += 1\n",
    "\n",
    "\"\"\"\n",
    "Obtains the total amount of png image content of a given directory.\n",
    "\"\"\"\n",
    "def count_images_in_dir(directory):\n",
    "    return len(os.listdir(directory))\n",
    "\n",
    "print(\"Total amount of test samples: \" + str(len(numbers)))\n",
    "print()\n",
    "print(\"Total amount uninfected test samples: \" + str(count_images_in_dir(test_uninfected_dir)))\n",
    "print(\"Predicted amount uninfected samples: \" + str(zero))\n",
    "print()\n",
    "print(\"Total amount parasitized test samples: \" + str(count_images_in_dir(test_infected_dir)))\n",
    "print(\"Predicted amount parasitized samples: \" + str(one))"
   ]
  }
 ],
 "metadata": {
  "kernelspec": {
   "display_name": "Python 3",
   "language": "python",
   "name": "python3"
  },
  "language_info": {
   "codemirror_mode": {
    "name": "ipython",
    "version": 3
   },
   "file_extension": ".py",
   "mimetype": "text/x-python",
   "name": "python",
   "nbconvert_exporter": "python",
   "pygments_lexer": "ipython3",
   "version": "3.6.8"
  }
 },
 "nbformat": 4,
 "nbformat_minor": 2
}
