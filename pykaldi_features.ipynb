{
 "cells": [
  {
   "cell_type": "markdown",
   "metadata": {},
   "source": [
    "Author: René Uhliar"
   ]
  },
  {
   "cell_type": "markdown",
   "metadata": {},
   "source": [
    "Initialize all the imports for the upcoming few blocks. Also set the printoptions, so that when printing numpy data we print everything, instead of just partial data."
   ]
  },
  {
   "cell_type": "code",
   "execution_count": 31,
   "metadata": {},
   "outputs": [],
   "source": [
    "from kaldi.feat.mfcc import Mfcc, MfccOptions\n",
    "from kaldi.matrix import SubVector, SubMatrix\n",
    "from kaldi.util.options import ParseOptions\n",
    "from kaldi.util.table import SequentialWaveReader\n",
    "from kaldi.util.table import MatrixWriter\n",
    "from sklearn.preprocessing import scale\n",
    "\n",
    "import numpy as np\n",
    "np.set_printoptions(threshold=np.inf)"
   ]
  },
  {
   "cell_type": "markdown",
   "metadata": {},
   "source": [
    "We create a wrapper that will contain all the important data about the Mfcc. We want to have all these data grouped together, so that we can return it from a function and pass it as an argument to a function."
   ]
  },
  {
   "cell_type": "code",
   "execution_count": 32,
   "metadata": {},
   "outputs": [],
   "source": [
    "class PreparedMfcc():\n",
    "    \n",
    "    def __init__(self, mfcc, mfcc_opts, rspec, wspec, opts, sample_freq):\n",
    "        self.mfcc = mfcc\n",
    "        self.mfcc_opts = mfcc_opts\n",
    "        self.rspec = rspec\n",
    "        self.wspec = wspec\n",
    "        self.opts = opts\n",
    "        self.sample_freq = sample_freq"
   ]
  },
  {
   "cell_type": "markdown",
   "metadata": {},
   "source": [
    "Here we set all the important data and return them all in the PreparedMfcc wrapper mentioned above. This function initializes a file with KEY VALUE pairs split by a whitespace (space) character.\n",
    "\n",
    "KEY = A key to the value.\n",
    "VALUE = A path to the audio file."
   ]
  },
  {
   "cell_type": "code",
   "execution_count": 33,
   "metadata": {},
   "outputs": [],
   "source": [
    "def get_prepared_mfcc(scp_file, file_key_value_dict):\n",
    "    with open(scp_file, \"w\", newline='\\n') as output:\n",
    "        for key, val in file_key_value_dict.items():\n",
    "            output.write(key + \" \" + val + '\\n')\n",
    "\n",
    "    usage = \"\"\"Extract MFCC features.\n",
    "               Usage: example.py [opts...] <rspec> <wspec>\n",
    "            \"\"\"\n",
    "    po = ParseOptions(usage)\n",
    "    po.register_float(\"min-duration\", 0.0, \"minimum segment duration\")\n",
    "\n",
    "    mfcc_opts = MfccOptions()\n",
    "    mfcc_opts.frame_opts.samp_freq = 8000\n",
    "    mfcc_opts.register(po)\n",
    "\n",
    "    # parse command-line options\n",
    "    opts = po.parse_args()\n",
    "    rspec, wspec = \"scp:\" + scp_file, \"ark,t:\" + scp_file + \"_mfcc.ark\"\n",
    "\n",
    "    mfcc = Mfcc(mfcc_opts)\n",
    "    sf = mfcc_opts.frame_opts.samp_freq\n",
    "\n",
    "    return PreparedMfcc(mfcc, mfcc_opts, rspec, wspec, opts, sf)\n",
    "    "
   ]
  },
  {
   "cell_type": "markdown",
   "metadata": {},
   "source": [
    "Standard PyKaldi stuff that I got from (6th code slide) https://github.com/pykaldi/pykaldi/blob/master/examples/notebooks/mfcc-extraction.ipynb\n",
    "But I have tweaked it a little for our purpose. This basically creates the MFCC features n x n dimensional array, which produces usable data for e.g. plotting."
   ]
  },
  {
   "cell_type": "code",
   "execution_count": 34,
   "metadata": {},
   "outputs": [],
   "source": [
    "def create_mfcc_features(prepared_mfcc):\n",
    "    # Check whether crucial attributes have been set in prapred_mfcc.\n",
    "    if prepared_mfcc is None:\n",
    "        raise Exception(\"prepared_mfcc is None.\")\n",
    "        \n",
    "    with SequentialWaveReader(prepared_mfcc.rspec) as reader, MatrixWriter(prepared_mfcc.wspec) as writer:\n",
    "        print(reader)\n",
    "        my_dict = {}\n",
    "        for key, wav in reader:\n",
    "            if wav.duration < prepared_mfcc.opts.min_duration:\n",
    "                continue\n",
    "\n",
    "            assert(wav.samp_freq >= prepared_mfcc.sample_freq)\n",
    "            assert(wav.samp_freq % prepared_mfcc.sample_freq == 0)\n",
    "\n",
    "            # wav.samp_freq = 10000.0\n",
    "            print(\"print(wav.samp_freq) result:\")\n",
    "            print(wav.samp_freq)\n",
    "            print()\n",
    "\n",
    "            s = wav.data()\n",
    "            print(\"print(s) result:\")\n",
    "            print(s)\n",
    "            print()\n",
    "            # 11891 28260 ... 360 362\n",
    "            # 11772 28442 ... 362 414\n",
    "            # [kaldi.matrix.Matrix of size 2x23001]\n",
    "\n",
    "            # downsample to sf [default = 8khz]\n",
    "            s = s[:,::int(wav.samp_freq / prepared_mfcc.sample_freq)]\n",
    "\n",
    "            # mix-down stereo to mono\n",
    "            m = SubVector(np.mean(s, axis=0))\n",
    "\n",
    "            # compute MFCC features\n",
    "            f = prepared_mfcc.mfcc.compute_features(m, prepared_mfcc.sample_freq, 1.0)\n",
    "\n",
    "            # standardize features\n",
    "            f = SubMatrix(scale(f))\n",
    "            \n",
    "            # >>> print(f)\n",
    "            # -0.8572 -0.6932 ... 0.5191 0.3885\n",
    "            # -1.3980 -1.0431 ... 1.4374 -0.2232\n",
    "            # ... ...\n",
    "            # -1.7816 -1.4714 ... -0.0832 0.5536\n",
    "            # -1.6886 -1.5556 ... 1.0878 1.1813\n",
    "            # [kaldi.matrix.SubMatrix of size 142x13]\n",
    "\n",
    "            # write features to archive\n",
    "\n",
    "            writer[key] = f\n",
    "            \n",
    "            my_dict[key] = f\n",
    "        return my_dict"
   ]
  },
  {
   "cell_type": "markdown",
   "metadata": {},
   "source": [
    "Here we initialize a dictionary which contains two paths to audio files and we use that with the function defined above."
   ]
  },
  {
   "cell_type": "code",
   "execution_count": 35,
   "metadata": {
    "scrolled": false
   },
   "outputs": [],
   "source": [
    "audio_files = {\"TEST\":\"/datb/aphasia/languagedata/voorRene.wav\", \"TEST2\":\"test_data/nl-0269.wav\", \"TEST3\":\"test_data/rene_eeeee.wav\"}\n",
    "prepared_mfcc = get_prepared_mfcc(\"testfile.scp\", audio_files)"
   ]
  },
  {
   "cell_type": "markdown",
   "metadata": {},
   "source": [
    "Create the MFCC features for the files from the dictionary and print those."
   ]
  },
  {
   "cell_type": "code",
   "execution_count": 36,
   "metadata": {
    "scrolled": true
   },
   "outputs": [
    {
     "name": "stdout",
     "output_type": "stream",
     "text": [
      "<kaldi.util.table.SequentialWaveReader object at 0x7f9a2fa73868>\n",
      "print(wav.samp_freq) result:\n",
      "16000.0\n",
      "\n",
      "print(s) result:\n",
      "\n",
      "   -31    -32    -29  ...      -8     -1     -8\n",
      "[kaldi.matrix.Matrix of size 1x640936]\n",
      "\n",
      "\n",
      "print(wav.samp_freq) result:\n",
      "48000.0\n",
      "\n",
      "print(s) result:\n",
      "\n",
      "  -10   -13   -12  ...     63    59    58\n",
      "[kaldi.matrix.Matrix of size 1x165888]\n",
      "\n",
      "\n",
      "print(wav.samp_freq) result:\n",
      "48000.0\n",
      "\n",
      "print(s) result:\n",
      "\n",
      "     0      0      0  ...      -5     -9     -7\n",
      "     0      0      0  ...      -5     -9     -7\n",
      "[kaldi.matrix.Matrix of size 2x181248]\n",
      "\n",
      "\n",
      "{'TEST': \n",
      "-2.3233e+00 -3.3797e-01  4.4341e-01  ...  -2.4242e-02  8.7524e-01 -1.0059e-01\n",
      "-1.9515e+00 -4.6290e-01 -3.0757e-01  ...   4.0510e-01  7.0710e-01  2.1005e+00\n",
      "-1.9265e+00 -4.4229e-01  3.7984e-01  ...   1.7819e-01  9.4712e-01  6.4836e-01\n",
      "                ...                   ⋱                   ...                \n",
      "-2.0560e+00 -7.1789e-01  8.6530e-01  ...   2.7970e-01  1.5339e+00  8.0286e-02\n",
      "-2.0155e+00 -7.8794e-01  6.8534e-01  ...   1.0779e+00  2.0804e-01 -3.2510e-01\n",
      "-2.4349e+00 -7.0743e-01  8.6904e-01  ...   3.9278e-01  8.6144e-01  6.6604e-01\n",
      "[kaldi.matrix.SubMatrix of size 4004x13]\n",
      ", 'TEST2': \n",
      "-1.8208 -0.9221 -0.4727  ...   0.4927  0.6239  0.4994\n",
      "-2.1586 -1.2383 -0.5883  ...   0.3350  1.3547  1.4500\n",
      "-1.9913 -1.2039 -0.5810  ...   0.6821  0.0178  0.2120\n",
      "          ...             ⋱             ...          \n",
      "-0.7250  0.7815  0.5707  ...  -1.5859  1.3349  0.6613\n",
      "-0.7573  0.9337  1.0290  ...  -1.9551 -0.1417  1.0901\n",
      "-0.5997  1.0783  0.7883  ...  -0.2917  0.9024  0.8309\n",
      "[kaldi.matrix.SubMatrix of size 344x13]\n",
      ", 'TEST3': \n",
      "-3.0445  0.2837 -0.4164  ...   1.7214 -0.3328  0.6196\n",
      "-2.7316 -0.0042 -0.0812  ...   2.5587 -0.4974 -0.2444\n",
      "-2.8378 -0.1976 -0.3858  ...   1.8237 -1.3205  1.1498\n",
      "          ...             ⋱             ...          \n",
      "-0.7280 -1.6382 -0.5093  ...   0.4417  0.8009 -2.5397\n",
      "-0.6539 -1.3874 -0.1002  ...   1.0842  0.4427 -2.3745\n",
      "-0.8322 -1.7711  0.1748  ...  -0.3508  0.7145 -3.0645\n",
      "[kaldi.matrix.SubMatrix of size 376x13]\n",
      "}\n"
     ]
    }
   ],
   "source": [
    "mfcc_features_dict = create_mfcc_features(prepared_mfcc)\n",
    "print(mfcc_features_dict)"
   ]
  },
  {
   "cell_type": "markdown",
   "metadata": {},
   "source": [
    "We extract the features of the file that belongs to the key 'TEST2' and we print the whole Kaldi SubMatrix which is produced in mfcc_features_dict. We also print the first 25 x 13 data from the beginning and 25 x 13 data from the end of the Kaldi SubMatrix."
   ]
  },
  {
   "cell_type": "code",
   "execution_count": 50,
   "metadata": {},
   "outputs": [
    {
     "name": "stdout",
     "output_type": "stream",
     "text": [
      "\n",
      "-3.0445  0.2837 -0.4164  ...   1.7214 -0.3328  0.6196\n",
      "-2.7316 -0.0042 -0.0812  ...   2.5587 -0.4974 -0.2444\n",
      "-2.8378 -0.1976 -0.3858  ...   1.8237 -1.3205  1.1498\n",
      "          ...             ⋱             ...          \n",
      "-0.7280 -1.6382 -0.5093  ...   0.4417  0.8009 -2.5397\n",
      "-0.6539 -1.3874 -0.1002  ...   1.0842  0.4427 -2.3745\n",
      "-0.8322 -1.7711  0.1748  ...  -0.3508  0.7145 -3.0645\n",
      "[kaldi.matrix.SubMatrix of size 376x13]\n",
      "\n",
      "\n",
      "\n",
      "Columns 0 to 9 \n",
      "-3.0445  0.2837 -0.4164  1.2183  0.2979 -0.3721  0.2128 -2.1551 -0.5375  0.0440\n",
      "-2.7316 -0.0042 -0.0812  1.5374 -0.0625  0.0166  0.5123 -1.1657 -0.2066  0.8576\n",
      "-2.8378 -0.1976 -0.3858  1.8876 -0.0953  0.8109  0.4080 -0.8552 -0.5206  1.1141\n",
      "-3.0611 -0.5282 -0.5058  3.0521  0.0155  1.2042  0.8254 -1.1990 -0.2428  1.0650\n",
      "-3.1550 -1.6005 -0.3240  1.8247 -0.2418  0.6027 -0.1660 -0.2245  0.0621 -0.5934\n",
      "-3.4164 -1.2323 -0.6789  1.8710  0.2919  0.9009 -0.4972 -0.8284  0.0391  0.0811\n",
      "-3.3913 -1.6571 -0.1827  0.7669  0.1844  0.5873 -0.7293 -1.6585  1.0355  0.3637\n",
      "-2.6721 -1.0322 -0.0831  0.3490 -0.6296 -0.1881 -1.1198 -1.3541  0.8104  0.4444\n",
      "-2.0508  0.1492 -0.1925  0.0635 -0.3272 -0.9125 -1.3139 -1.7453  0.9523  1.0690\n",
      "-1.4792  0.8253 -0.3825 -0.7519 -0.2807 -0.6311 -1.9192 -0.6430  1.5274  1.6149\n",
      "-1.0768  1.0942  0.0131 -0.6493 -0.7715 -0.5794 -1.6569 -1.2343  1.0968  1.9752\n",
      "-0.7452  1.4886  0.3413 -0.1060 -0.7333 -0.5212 -1.9129 -0.8893  0.6199  1.4316\n",
      "-0.6206  1.6758  0.1338  0.5005 -0.0035 -0.9479 -1.8933 -0.2668  1.4912  1.0301\n",
      "-0.6890  1.1712 -0.0228  1.6786 -0.2513 -1.0431 -1.7521 -0.3083  1.6381  1.0310\n",
      "-0.8801  0.8364 -0.0200  1.8386 -0.4079 -1.0620 -2.2955  0.4180  1.7093  0.3771\n",
      "-0.9884  0.3927  0.8410  2.3652 -0.1333 -0.6007 -1.3443  0.3578  0.8072 -0.0852\n",
      "-1.1269  0.6321  0.7104  2.1830 -0.2403 -0.4763 -1.4943 -0.3402  1.4448  0.3167\n",
      "-1.2311  0.4294  0.8272  1.7451 -0.3500 -0.4207 -1.4549 -0.4867  1.3889  0.2742\n",
      "-1.1213  1.3711 -0.5048  0.2127 -0.4689  0.2809 -0.6797 -1.5996  0.8261  0.3626\n",
      "-0.8155  1.9003  0.1236  0.1245 -0.8802 -0.3143 -0.6801 -1.1974  0.3590  0.3161\n",
      "-0.7392  2.1452  0.8054  0.0646 -0.9613 -0.8501 -0.3404 -1.2777  0.5332 -0.1133\n",
      "-0.8403  0.5163  0.7368  1.9627 -0.4963 -0.9916 -0.3069 -0.9001  0.5925 -0.3639\n",
      "-1.0382 -0.0072  1.0809  2.6136  0.5170 -0.7183 -0.2186 -1.4837  0.4173 -1.5222\n",
      "-1.1375  0.3711  0.8366  0.6597 -0.5067 -1.0874  0.0586 -2.1494  1.4326 -0.8613\n",
      "-1.1924  0.2190  1.6977  0.4257 -0.5009 -0.6865 -1.0446 -1.8096  0.9191 -0.2129\n",
      "\n",
      "Columns 10 to 12 \n",
      " 1.7214 -0.3328  0.6196\n",
      " 2.5587 -0.4974 -0.2444\n",
      " 1.8237 -1.3205  1.1498\n",
      " 0.6236 -2.3784 -0.0550\n",
      "-0.3998 -1.1758 -0.6487\n",
      "-0.8928 -1.8449 -0.1896\n",
      "-0.9530 -1.5476  0.5930\n",
      "-0.0184 -1.2974  0.3838\n",
      " 0.3814 -0.4048 -0.1957\n",
      " 0.6387  0.1157  0.1584\n",
      " 1.7096 -0.5210  0.8326\n",
      " 1.2340 -0.7990 -0.3237\n",
      " 0.3035  0.1785 -0.2280\n",
      " 0.1224  1.1354 -0.7979\n",
      " 0.2883  0.3379 -0.0310\n",
      "-0.6139 -0.8949 -0.1279\n",
      "-0.2851 -1.3625  0.1793\n",
      " 0.6700 -1.6173 -0.6646\n",
      " 1.3309  0.0003 -0.9357\n",
      " 1.4666  0.6837 -0.3380\n",
      " 0.4190  0.2283 -2.0244\n",
      " 0.1727  0.3550 -1.5568\n",
      " 0.2845  0.1556 -1.1569\n",
      " 0.6557  0.0384  0.3779\n",
      " 0.5289 -0.2620 -0.5667\n",
      "[kaldi.matrix.SubMatrix of size 25x13]\n",
      "\n",
      "\n",
      "\n",
      "Columns 0 to 9 \n",
      "-0.1884  0.4722 -0.1672 -0.2540  0.2982 -0.8785 -1.1617  0.6195  0.9904  0.7740\n",
      "-0.4919 -0.2581 -0.7495  0.4854  0.7084 -0.0803 -0.9196  1.3985  0.5492  0.3055\n",
      "-0.7313 -0.8547 -1.5462 -0.7835  0.6178 -0.3109 -0.8738  1.2093  0.2566  0.3464\n",
      "-0.8571 -1.0821 -1.5909 -2.0443  0.9070 -0.0976 -1.0430  1.0519  0.6721  0.0650\n",
      "-0.9373 -1.1631 -1.4030 -2.1420  1.1568 -0.5634 -1.2011 -0.1057  0.0251 -0.2713\n",
      "-1.0262 -0.9388 -1.5669 -2.0258  0.9385 -0.3854 -0.8476  0.0872  0.2558 -0.4430\n",
      "-1.0509 -0.6406 -1.2549 -1.3622  0.4730  0.2674 -0.8198  0.4798 -0.4790 -0.6230\n",
      "-0.8762  0.4692 -0.7534 -0.4882  0.2924 -0.4924 -0.9880  0.4732 -0.2167 -0.4786\n",
      "-0.5069  1.0280 -0.5884 -1.5842  0.4123 -1.2657 -1.1433  0.0720 -0.3083 -0.5108\n",
      "-0.4152  1.5259 -0.3896 -1.6117  0.5449 -0.6961 -1.7852  0.5689  0.2373 -0.7538\n",
      "-0.7424  1.2305 -0.5669 -0.1872  0.9887 -0.7519 -1.3719  0.1761  0.3411  0.1028\n",
      "-0.9792  0.6583 -1.0535 -0.2988  1.8507 -0.8927 -1.6998  0.5635  0.3959  0.8732\n",
      "-0.8482 -0.4449 -1.6416 -0.3939  1.8662 -1.2521 -1.5753  0.5880  1.0833  1.0540\n",
      "-0.6855 -0.4809 -1.7687 -0.2661  2.2134 -1.0141 -2.2539 -0.2179  0.6060  1.6171\n",
      "-0.7914 -0.1411 -2.2633  0.5566  2.5898 -1.1506 -2.0551  0.5917  0.4825  0.2121\n",
      "-0.8787 -1.4083 -2.1406 -0.6864  2.1170 -0.9294 -2.4908 -2.2289  1.3828 -1.1518\n",
      "-1.1225 -2.0199 -2.0615 -1.2162  2.8794 -0.6908 -2.2406 -1.2607  0.8154 -1.2739\n",
      "-1.2431 -1.7924 -1.7177 -0.0091  3.4719 -0.8930 -1.4064 -0.5681  0.9932 -1.3355\n",
      "-1.3619 -2.5210 -2.9434 -1.3829  3.7398 -0.7185 -2.0397 -0.7906 -0.1149 -1.5819\n",
      "-1.3558 -1.0222 -2.5086 -0.8485  3.2180 -0.9067 -2.0922 -0.3850  0.3840 -1.1831\n",
      "-1.3484 -1.9215 -1.9980 -1.1833  3.0850 -0.4241 -1.8063 -0.1001  0.6451 -1.7951\n",
      "-1.0836 -1.1508 -1.3256 -0.9095  2.5553 -1.2130 -1.9386  0.6203  0.9291 -1.1858\n",
      "-0.7838 -0.8346 -0.6604 -0.1818  3.3963 -1.8924 -1.7037  0.6553  1.0590 -1.1799\n",
      "-0.7280 -1.6382 -0.5093  0.7823  2.6988 -0.7914 -1.1883  1.1154  1.2048 -0.9300\n",
      "-0.6539 -1.3874 -0.1002  0.8762  1.9591  0.1031 -1.0009  0.5634  0.7900 -1.2547\n",
      "\n",
      "Columns 10 to 12 \n",
      " 2.2133  0.4178 -0.3432\n",
      " 2.2403 -1.0021 -0.5473\n",
      " 1.8008 -0.5034  0.3803\n",
      " 2.3158  1.0736  0.6915\n",
      " 1.5823  0.4692  0.5008\n",
      " 1.1155  0.4557  0.1728\n",
      " 1.0214  0.8152  0.4202\n",
      " 1.3955  1.1029  0.5101\n",
      " 1.5911  0.9300  0.5107\n",
      " 2.0159  0.6700  0.4208\n",
      " 2.2292  0.1241 -0.0023\n",
      " 1.9043  0.0566 -0.8734\n",
      " 2.0616  0.2224 -0.2471\n",
      " 2.0801  0.9733 -1.0919\n",
      " 0.6135  0.5509 -3.3311\n",
      " 1.3288  0.8128 -1.8435\n",
      " 1.2344 -0.5439 -2.2009\n",
      "-0.1877  0.0123 -2.3162\n",
      "-0.0533  0.2304 -2.9656\n",
      " 1.0022  0.3465 -1.2971\n",
      " 1.1173  1.3484 -1.3370\n",
      " 0.3497  0.5717 -2.3839\n",
      " 0.4784  2.3366 -2.8984\n",
      " 0.4417  0.8009 -2.5397\n",
      " 1.0842  0.4427 -2.3745\n",
      "[kaldi.matrix.SubMatrix of size 25x13]\n",
      "\n"
     ]
    }
   ],
   "source": [
    "# print some data to quick peek whether everything is fine\n",
    "kaldi_wav_data = mfcc_features_dict[\"TEST3\"]\n",
    "print(kaldi_wav_data)\n",
    "# first 25 elements\n",
    "print(kaldi_wav_data[0:25])\n",
    "# last 25 elements\n",
    "last_elem = len(kaldi_wav_data) - 1\n",
    "print(kaldi_wav_data[last_elem - 25:last_elem])"
   ]
  },
  {
   "cell_type": "markdown",
   "metadata": {},
   "source": [
    "Initialize plot stuff and show the MFCC plot of the Kaldi SubMatrix which is first converted to numpy array. In this concrete MFCC plot we can see a plot of me saying \"eeeeeeeeeeeeeeeee\" into the mic for ~2 seconds. I started at around 1.60  seconds and ended around 3.20. There slightly is a visible pattern that can be seen in the kind of blurred part of the plot in between the mentioned start and end time."
   ]
  },
  {
   "cell_type": "code",
   "execution_count": 51,
   "metadata": {
    "scrolled": true
   },
   "outputs": [
    {
     "data": {
      "image/png": "[encoded data removed]",
      "text/plain": [
       "<Figure size 720x288 with 2 Axes>"
      ]
     },
     "metadata": {
      "needs_background": "light"
     },
     "output_type": "display_data"
    }
   ],
   "source": [
    "plt.figure(figsize=(10,4))\n",
    "np_wav_data = np.array(kaldi_wav_data)\n",
    "\n",
    "# Tanspose the data and set origin to lower, so that Y axis goes from 0 to n, instead of n to 0\n",
    "plt.imshow(np_wav_data.T, aspect='auto', origin='lower')\n",
    "plt.colorbar()\n",
    "plt.title(\"MFCC\")\n",
    "plt.ylabel(\"Bins\")\n",
    "plt.xlabel(\"Time\")\n",
    "plt.tight_layout()\n",
    "plt.show()"
   ]
  }
 ],
 "metadata": {
  "kernelspec": {
   "display_name": "Python 3",
   "language": "python",
   "name": "python3"
  },
  "language_info": {
   "codemirror_mode": {
    "name": "ipython",
    "version": 3
   },
   "file_extension": ".py",
   "mimetype": "text/x-python",
   "name": "python",
   "nbconvert_exporter": "python",
   "pygments_lexer": "ipython3",
   "version": "3.6.6"
  }
 },
 "nbformat": 4,
 "nbformat_minor": 2
}
