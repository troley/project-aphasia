{
 "cells": [
  {
   "cell_type": "markdown",
   "metadata": {},
   "source": [
    "## Author: René Uhliar"
   ]
  },
  {
   "cell_type": "markdown",
   "metadata": {},
   "source": [
    "### Originally the exportDataCsv function was written by Koray. I adjusted the function to perform phonemes extraction instead of words from just a specific section from the CGN data files, not the whole file."
   ]
  },
  {
   "cell_type": "markdown",
   "metadata": {},
   "source": [
    "<p>This file makes it possible to extract CGN .awd files as defined by the `awdFolderPath` path and transform these into .csv files per .awd file. The .csv file will contain the following (headers and) data: begin_time_of_a_phoneme, end_time_of_a_phoneme, phoneme, absolute_path_to_the_corresponding_wav_file. So e.g., we have the CGN file fn00000.awd which contains raw data:</p>\n",
    "\n",
    "<ul>\n",
    "    <li>\"0.167\"</li>\n",
    "    <li>\"0.179\"</li>\n",
    "    <li>\"a\"</li>\n",
    "</ul>\n",
    "\n",
    "<p>We then transform these data into 0.167,0.179,a,`wavFolderPath`/fn00000.wav and write that line to the corresponding .csv file.</p>\n",
    "\n",
    "<p><b>It has to be noted</b> that every .awd file contains a few IntervalTier annotation. In each of these .awd files, we are only interested in data under the <i>third</i> IntervalTier annotation and skipping the first four lines under that IntervalTier annotation. This can be seen clearly in the code following the variables `skippedRows` and `IntervalTierCounter`. </p>"
   ]
  },
  {
   "cell_type": "code",
   "execution_count": 47,
   "metadata": {},
   "outputs": [],
   "source": [
    "import glob, os, csv, re"
   ]
  },
  {
   "cell_type": "code",
   "execution_count": 36,
   "metadata": {},
   "outputs": [],
   "source": [
    "# Reading out all files from a folder.\n",
    "def get_files(folderpath):\n",
    "    files = glob.glob(folderpath + '*')\n",
    "    return files"
   ]
  },
  {
   "cell_type": "code",
   "execution_count": 37,
   "metadata": {},
   "outputs": [],
   "source": [
    "finalPath = '/datb/aphasia/languagedata/corpus/final_foneem/'\n",
    "wavFolderPath = '/datb/aphasia/languagedata/corpus/transform/clean/'\n",
    "awdFolderPath = '/datb/aphasia/CGN_2.0.3/data/annot/text/awd/comp-k/nl/'"
   ]
  },
  {
   "cell_type": "code",
   "execution_count": 64,
   "metadata": {},
   "outputs": [],
   "source": [
    "# For exporting data from the Corpus Gesproken Nederlands data set to a CSV\n",
    "def exportDataCSV(awdFolderPath, wavFolderPath, finalpath, fieldnames):\n",
    "\n",
    "    files = get_files(awdFolderPath)\n",
    "    \n",
    "    for filepath in files:\n",
    "        with open(filepath, encoding = \"ISO-8859-1\") as toRead:\n",
    "            read_data = toRead.readline()\n",
    "\n",
    "            filename = filepath.split('/')[-1].split('.')[0]\n",
    "            wavfile = wavFolderPath + filename + '.wav'\n",
    "\n",
    "            with open(finalPath+filename+'.csv', 'w') as writeTo:\n",
    "                    writer = csv.DictWriter(writeTo, fieldnames=fieldnames)\n",
    "                    writer.writeheader()\n",
    "\n",
    "                    skippedRows = 0\n",
    "                    subCount = 0\n",
    "\n",
    "                    begin = 0\n",
    "                    end = 0\n",
    "                    phoneme = ''\n",
    "                    intervalTierCounter = 0\n",
    "                    intervalTier = 'IntervalTier'\n",
    "\n",
    "                    while read_data:\n",
    "\n",
    "                        # Just continue searching the file until an \"IntervalTier\" has been found\n",
    "                        if intervalTier not in read_data and intervalTierCounter < 3:\n",
    "                            read_data = toRead.readline()\n",
    "                            continue\n",
    "                        \n",
    "                        # We found an \"IntervalTier\"\n",
    "                        if intervalTier in read_data and intervalTierCounter < 3:\n",
    "                            read_data = toRead.readline()\n",
    "                            intervalTierCounter += 1\n",
    "                            continue\n",
    "                        \n",
    "                        # Some files contain MORE than 3 \"IntervalTier\"'s, we want to break out when\n",
    "                        # we find a 4th \"IntervalTier\". It doesn't contain phonemes but words.\n",
    "                        if intervalTier in read_data and intervalTierCounter >= 3:\n",
    "                            break;\n",
    "                        \n",
    "                        if skippedRows < 4:\n",
    "                            read_data = toRead.readline()\n",
    "                            skippedRows += 1\n",
    "                            continue\n",
    "                        \n",
    "                        # So, now onto the big BizNiS\n",
    "                        subCount += 1\n",
    "                        \n",
    "                        if subCount == 1:\n",
    "                            begin = float(read_data)\n",
    "                        elif subCount == 2:\n",
    "                            end = float(read_data)\n",
    "                        elif subCount == 3:\n",
    "                            phoneme = re.sub('[\\n\\r\"\".?]', '', read_data)\n",
    "\n",
    "                            writer.writerow({'begin': begin, 'end': end, 'phoneme': phoneme, 'audiopath':wavfile})\n",
    "\n",
    "                            begin = 0\n",
    "                            end = 0\n",
    "                            phoneme = ''\n",
    "                            subCount = 0\n",
    "                        \n",
    "                        read_data = toRead.readline()"
   ]
  },
  {
   "cell_type": "code",
   "execution_count": 65,
   "metadata": {},
   "outputs": [],
   "source": [
    "exportDataCSV(awdFolderPath, wavFolderPath, finalPath, ['begin', 'end', 'phoneme', 'audiopath'])"
   ]
  }
 ],
 "metadata": {
  "kernelspec": {
   "display_name": "Python 3",
   "language": "python",
   "name": "python3"
  },
  "language_info": {
   "codemirror_mode": {
    "name": "ipython",
    "version": 3
   },
   "file_extension": ".py",
   "mimetype": "text/x-python",
   "name": "python",
   "nbconvert_exporter": "python",
   "pygments_lexer": "ipython3",
   "version": "3.6.8"
  }
 },
 "nbformat": 4,
 "nbformat_minor": 2
}
