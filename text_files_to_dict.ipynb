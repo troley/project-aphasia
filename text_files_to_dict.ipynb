{
 "cells": [
  {
   "cell_type": "markdown",
   "metadata": {},
   "source": [
    "Authors: Jesse van Noordt & René Uhliar.<br>\n",
    "Beide hebben we aan dit notebook gewerkt in pair programming style."
   ]
  },
  {
   "cell_type": "markdown",
   "metadata": {},
   "source": [
    "Dit notebook bestand zorgt er in eerste instantie voor, dat de content van de bestanden met de '.txt' extensie uit de map waar folderOrig naar toe wijst worden uitgelezen. Deze woorden worden in een set datastructuur geplaatst, zodat de duplicate woorden eruit worden gefilterd. Tenslotte worden de woorden uit de set regel voor regel in een nieuw bestand geschreven waar de variabele new_filepath naar toe wijst."
   ]
  },
  {
   "cell_type": "code",
   "execution_count": 61,
   "metadata": {},
   "outputs": [],
   "source": [
    "import glob\n",
    "\n",
    "folderOrig ='/datb/aphasia/languagedata/uva/transform/clean/'\n",
    "new_filepath ='/datb/aphasia/languagedata/uva/transform/uniquewordfile/new_dict'\n",
    "            \n",
    "textdict = {}\n",
    "\n",
    "def initAllFiles(folder):\n",
    "    texttmp = glob.glob(folder+'*.txt')\n",
    "    \n",
    "    for file in texttmp:\n",
    "        text = file.split('/')[-1]\n",
    "        textdict[text] = file\n",
    "\n",
    "initAllFiles(folderOrig)\n",
    "\n",
    "def get_unique_words_from_dict(textdict):\n",
    "    unique_words= set()\n",
    "    for key, val in textdict.items():\n",
    "        with open (val, \"r\") as current_file:\n",
    "            filelines = current_file.readlines()\n",
    "            for lines in filelines[0: ]:\n",
    "                split_lines = lines.split(\" \")\n",
    "                for word in split_lines:\n",
    "                    unique_words.add(word)\n",
    "    return unique_words\n",
    "\n",
    "# new_file_path is het absolute path inclusief bestandsnaam\n",
    "def write_unique_words_to_file(new_file_path, uniquewords):\n",
    "    with open (new_file_path, \"w\") as new_file:\n",
    "        for word in uniquewords:\n",
    "            new_file.write(word+'\\n')\n",
    "            \n",
    "    \n",
    "write_unique_words_to_file(new_filepath,get_unique_words_from_dict(textdict))\n",
    "    \n",
    "        "
   ]
  }
 ],
 "metadata": {
  "kernelspec": {
   "display_name": "Python 3",
   "language": "python",
   "name": "python3"
  },
  "language_info": {
   "codemirror_mode": {
    "name": "ipython",
    "version": 3
   },
   "file_extension": ".py",
   "mimetype": "text/x-python",
   "name": "python",
   "nbconvert_exporter": "python",
   "pygments_lexer": "ipython3",
   "version": "3.6.6"
  }
 },
 "nbformat": 4,
 "nbformat_minor": 2
}
